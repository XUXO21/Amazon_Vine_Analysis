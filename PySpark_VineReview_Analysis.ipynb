{
  "nbformat": 4,
  "nbformat_minor": 0,
  "metadata": {
    "colab": {
      "name": "PySparkVineReviewAnalysis.ipynb",
      "provenance": [],
      "collapsed_sections": []
    },
    "kernelspec": {
      "name": "python3",
      "display_name": "Python 3"
    },
    "language_info": {
      "name": "python"
    }
  },
  "cells": [
    {
      "cell_type": "code",
      "source": [
        "import os\n",
        "# Find the latest version of spark 3.0 from http://www.apache.org/dist/spark/ and enter as the spark version\n",
        "# For example:\n",
        "# spark_version = 'spark-3.0.3'\n",
        "spark_version = 'spark-3.0.3'\n",
        "os.environ['SPARK_VERSION']=spark_version"
      ],
      "metadata": {
        "id": "qpGTRbXV3G4s"
      },
      "execution_count": 25,
      "outputs": []
    },
    {
      "cell_type": "code",
      "execution_count": 26,
      "metadata": {
        "id": "jFIQ7CA3MYRM",
        "colab": {
          "base_uri": "https://localhost:8080/"
        },
        "outputId": "1c5ed697-899e-4ede-b9a7-a9e6adeb489b"
      },
      "outputs": [
        {
          "output_type": "stream",
          "name": "stdout",
          "text": [
            "\r0% [Working]\r            \rHit:1 http://archive.ubuntu.com/ubuntu bionic InRelease\n",
            "Get:2 http://archive.ubuntu.com/ubuntu bionic-updates InRelease [88.7 kB]\n",
            "Hit:3 https://cloud.r-project.org/bin/linux/ubuntu bionic-cran40/ InRelease\n",
            "Hit:4 http://ppa.launchpad.net/c2d4u.team/c2d4u4.0+/ubuntu bionic InRelease\n",
            "Get:5 http://security.ubuntu.com/ubuntu bionic-security InRelease [88.7 kB]\n",
            "Get:6 http://archive.ubuntu.com/ubuntu bionic-backports InRelease [74.6 kB]\n",
            "Ign:7 https://developer.download.nvidia.com/compute/machine-learning/repos/ubuntu1804/x86_64  InRelease\n",
            "Hit:8 http://ppa.launchpad.net/cran/libgit2/ubuntu bionic InRelease\n",
            "Hit:9 https://developer.download.nvidia.com/compute/cuda/repos/ubuntu1804/x86_64  InRelease\n",
            "Hit:10 https://developer.download.nvidia.com/compute/machine-learning/repos/ubuntu1804/x86_64  Release\n",
            "Hit:11 http://ppa.launchpad.net/deadsnakes/ppa/ubuntu bionic InRelease\n",
            "Hit:12 http://ppa.launchpad.net/graphics-drivers/ppa/ubuntu bionic InRelease\n",
            "Fetched 252 kB in 3s (97.0 kB/s)\n",
            "Reading package lists... Done\n"
          ]
        }
      ],
      "source": [
        "# Install Spark and Java\n",
        "!apt-get update\n",
        "!apt-get install openjdk-11-jdk-headless -qq > /dev/null\n",
        "!wget -q http://www.apache.org/dist/spark/$SPARK_VERSION/$SPARK_VERSION-bin-hadoop2.7.tgz\n",
        "!tar xf $SPARK_VERSION-bin-hadoop2.7.tgz\n",
        "!pip install -q findspark"
      ]
    },
    {
      "cell_type": "code",
      "source": [
        "# Set Environment Variables\n",
        "import os\n",
        "os.environ[\"JAVA_HOME\"] = \"/usr/lib/jvm/java-8-openjdk-amd64\"\n",
        "os.environ[\"SPARK_HOME\"] = \"/content/spark-3.2.1-bin-hadoop3.2\"\n",
        "import findspark\n",
        "findspark.init()"
      ],
      "metadata": {
        "id": "44qyUOZE0y2a"
      },
      "execution_count": 29,
      "outputs": []
    },
    {
      "cell_type": "code",
      "source": [
        "!wget https://jdbc.postgresql.org/download/postgresql-42.2.16.jar"
      ],
      "metadata": {
        "colab": {
          "base_uri": "https://localhost:8080/"
        },
        "id": "Honm2N1201oE",
        "outputId": "8bc31e8e-4410-4336-8782-0f358c603695"
      },
      "execution_count": 30,
      "outputs": [
        {
          "output_type": "stream",
          "name": "stdout",
          "text": [
            "--2022-08-08 02:10:02--  https://jdbc.postgresql.org/download/postgresql-42.2.16.jar\n",
            "Resolving jdbc.postgresql.org (jdbc.postgresql.org)... 72.32.157.228, 2001:4800:3e1:1::228\n",
            "Connecting to jdbc.postgresql.org (jdbc.postgresql.org)|72.32.157.228|:443... connected.\n",
            "HTTP request sent, awaiting response... 200 OK\n",
            "Length: 1002883 (979K) [application/java-archive]\n",
            "Saving to: ‘postgresql-42.2.16.jar.1’\n",
            "\n",
            "postgresql-42.2.16. 100%[===================>] 979.38K  5.33MB/s    in 0.2s    \n",
            "\n",
            "2022-08-08 02:10:03 (5.33 MB/s) - ‘postgresql-42.2.16.jar.1’ saved [1002883/1002883]\n",
            "\n"
          ]
        }
      ]
    },
    {
      "cell_type": "code",
      "source": [
        "from pyspark.sql import SparkSession\n",
        "spark = SparkSession.builder.appName(\"M16-Amazon-Challenge\").config(\"spark.driver.extraClassPath\",\"/content/postgresql-42.2.16.jar\").getOrCreate()"
      ],
      "metadata": {
        "id": "HZsULpcHp_4J"
      },
      "execution_count": 31,
      "outputs": []
    },
    {
      "cell_type": "code",
      "source": [
        "from pyspark import SparkFiles\n",
        "url = \"https://s3.amazonaws.com/amazon-reviews-pds/tsv/amazon_reviews_us_Camera_v1_00.tsv.gz\"\n",
        "spark.sparkContext.addFile(url)\n",
        "df = spark.read.csv(SparkFiles.get(\"amazon_reviews_us_Camera_v1_00.tsv.gz\"), sep=\"\\t\", header=True, inferSchema=True)\n",
        "df.show()"
      ],
      "metadata": {
        "colab": {
          "base_uri": "https://localhost:8080/"
        },
        "id": "LKX6OerGqF3A",
        "outputId": "b7d42bb1-8049-4561-a832-1ca03290e726"
      },
      "execution_count": 32,
      "outputs": [
        {
          "output_type": "stream",
          "name": "stdout",
          "text": [
            "+-----------+-----------+--------------+----------+--------------+--------------------+----------------+-----------+-------------+-----------+----+-----------------+--------------------+--------------------+-----------+\n",
            "|marketplace|customer_id|     review_id|product_id|product_parent|       product_title|product_category|star_rating|helpful_votes|total_votes|vine|verified_purchase|     review_headline|         review_body|review_date|\n",
            "+-----------+-----------+--------------+----------+--------------+--------------------+----------------+-----------+-------------+-----------+----+-----------------+--------------------+--------------------+-----------+\n",
            "|         US|    2975964|R1NBG94582SJE2|B00I01JQJM|     860486164|GoPro Rechargeabl...|          Camera|          5|            0|          0|   N|                Y|          Five Stars|                  ok| 2015-08-31|\n",
            "|         US|   23526356|R273DCA6Y0H9V7|B00TCO0ZAA|     292641483|Professional 58mm...|          Camera|          5|            0|          0|   N|                Y|          Love it!!!|Perfect, even stu...| 2015-08-31|\n",
            "|         US|   52764145| RQVOXO7WUOFK6|B00B7733E0|      75825744|Spy Tec Z12 Motio...|          Camera|          2|            1|          1|   N|                Y|Another Motion De...|If the words, &#3...| 2015-08-31|\n",
            "|         US|   47348933|R1KWKSF21PO6HO|B006ZN4U34|     789352955|Celestron UpClose...|          Camera|          5|            0|          0|   N|                Y|Exactly what I wa...|Exactly what I wa...| 2015-08-31|\n",
            "|         US|   33680700|R38H3UO1J190GI|B00HUEBGMU|      19067902|Vidpro XM-L Wired...|          Camera|          5|            1|          1|   N|                Y|Good mic at a Goo...|I will look past ...| 2015-08-31|\n",
            "|         US|   30301059|R3NPIFKLR19NQA|B008MW6Y12|     597683407|NIX 8 inch Hi-Res...|          Camera|          3|            0|          0|   N|                Y|The controls are ...|The controls are ...| 2015-08-31|\n",
            "|         US|   28282645|R3MBE6UCH3435E|B00TE8XKIS|      35563334|Polaroid ZIP Mobi...|          Camera|          3|            8|          8|   N|                N|Fun toy for makin...|The printer came ...| 2015-08-31|\n",
            "|         US|     502818|R2E7A4FF0PVY5Q|B00ZKDUFBQ|     555190742|GeekPro 2.0-Inch ...|          Camera|          5|            0|          1|   N|                Y|          Five Stars|Great camera for ...| 2015-08-31|\n",
            "|         US|    1481233| R3R8JDQ2BF4NM|B010BZ7S2Q|     129544315|Sony HDR-AZ1VR Ac...|          Camera|          5|            0|          2|   N|                Y|          Five Stars|Product is very g...| 2015-08-31|\n",
            "|         US|   27885926|R1YND4BS823GN5|B00HRXSSRA|     708418657|ChiliPower DMW-BL...|          Camera|          1|            0|          0|   N|                Y|              Sucky.|Lasted a few hour...| 2015-08-31|\n",
            "|         US|    3183883|R2TZNSA18V7YF6|B005C95NM4|     246957815|Zeikos Deluxe Fla...|          Camera|          4|            1|          1|   N|                Y|Hand Hold Bracket...|I needed the flas...| 2015-08-31|\n",
            "|         US|   23208852|R22ZVRDPPXIDNL|B00LBIBYBE|     746593019|  GoPro Hero Filters|          Camera|          5|            0|          0|   N|                Y|          Five Stars|Use these all the...| 2015-08-31|\n",
            "|         US|   11438825|R1F4O6WOO2W461|B00X3HIM2U|     444991975|Neewer Meike MK-X...|          Camera|          3|            3|          3|   N|                Y|Can't grip the ba...|Same issue as oth...| 2015-08-31|\n",
            "|         US|   50399582| RT1KLS3QSJNUT|B00KDVQF8W|     304104050|LB Photography Ba...|          Camera|          5|            4|          4|   N|                Y|Super pleased wit...|Super pleased wit...| 2015-08-31|\n",
            "|         US|   36700181|R222VYJL5K5IRS|B00GUZEZL4|     472875794|Waterproof Camera...|          Camera|          5|            0|          0|   N|                Y|    Excellent value!|These float wrist...| 2015-08-31|\n",
            "|         US|   47818374|R31LUR7M4PQOLU|B00FB1TBKS|     710827451|Ecolink Z-Wave PI...|          Camera|          5|            0|          0|   N|                Y|       great product|very good on batt...| 2015-08-31|\n",
            "|         US|   35272750|R1OD3T3Q042LUQ|B00GVMLPT6|     269896170|FotoTech Male to ...|          Camera|          2|            0|          0|   N|                Y|           Two Stars|im not happy, the...| 2015-08-31|\n",
            "|         US|   11736306|R2QT68OZTT2YKE|B00L8827BI|     145946775|Nikon D3200 Ultim...|          Camera|          5|            0|          0|   N|                Y|          Five Stars|It is a very good...| 2015-08-31|\n",
            "|         US|   52377008| RMFQF59FG3TD1|B00SIM78R0|     972011051|D-Link Wireless D...|          Camera|          4|            0|          0|   N|                Y|Nice camera, not ...|Nice camera for t...| 2015-08-31|\n",
            "|         US|    6465510|R1QNYFW6G31R5T|B00EDCZKJ2|     258297575|ZINK Phone Photo ...|          Camera|          1|            1|          3|   N|                N|        Never Agian.|If I could leave ...| 2015-08-31|\n",
            "+-----------+-----------+--------------+----------+--------------+--------------------+----------------+-----------+-------------+-----------+----+-----------------+--------------------+--------------------+-----------+\n",
            "only showing top 20 rows\n",
            "\n"
          ]
        }
      ]
    },
    {
      "cell_type": "code",
      "source": [
        "vine_df = df.select([\"review_id\",\"star_rating\", \"helpful_votes\", \"total_votes\", \"vine\", \"verified_purchase\"])\n",
        "vine_df.show(10)"
      ],
      "metadata": {
        "colab": {
          "base_uri": "https://localhost:8080/"
        },
        "id": "1qzeIJhlqGFo",
        "outputId": "14e4c5b6-bd1a-48d5-9f9a-28ea6f91e279"
      },
      "execution_count": 35,
      "outputs": [
        {
          "output_type": "stream",
          "name": "stdout",
          "text": [
            "+--------------+-----------+-------------+-----------+----+-----------------+\n",
            "|     review_id|star_rating|helpful_votes|total_votes|vine|verified_purchase|\n",
            "+--------------+-----------+-------------+-----------+----+-----------------+\n",
            "|R1NBG94582SJE2|          5|            0|          0|   N|                Y|\n",
            "|R273DCA6Y0H9V7|          5|            0|          0|   N|                Y|\n",
            "| RQVOXO7WUOFK6|          2|            1|          1|   N|                Y|\n",
            "|R1KWKSF21PO6HO|          5|            0|          0|   N|                Y|\n",
            "|R38H3UO1J190GI|          5|            1|          1|   N|                Y|\n",
            "|R3NPIFKLR19NQA|          3|            0|          0|   N|                Y|\n",
            "|R3MBE6UCH3435E|          3|            8|          8|   N|                N|\n",
            "|R2E7A4FF0PVY5Q|          5|            0|          1|   N|                Y|\n",
            "| R3R8JDQ2BF4NM|          5|            0|          2|   N|                Y|\n",
            "|R1YND4BS823GN5|          1|            0|          0|   N|                Y|\n",
            "+--------------+-----------+-------------+-----------+----+-----------------+\n",
            "only showing top 10 rows\n",
            "\n"
          ]
        }
      ]
    },
    {
      "cell_type": "code",
      "source": [
        "helpfulvotes_df = vine_df.filter(vine_df[\"total_votes\"] >= 20)\n",
        "helpfulvotes_df.show()"
      ],
      "metadata": {
        "colab": {
          "base_uri": "https://localhost:8080/"
        },
        "id": "4JkOIizNOgiA",
        "outputId": "88f821ea-f4b8-4e37-a55a-6d3f196c618f"
      },
      "execution_count": 36,
      "outputs": [
        {
          "output_type": "stream",
          "name": "stdout",
          "text": [
            "+--------------+-----------+-------------+-----------+----+-----------------+\n",
            "|     review_id|star_rating|helpful_votes|total_votes|vine|verified_purchase|\n",
            "+--------------+-----------+-------------+-----------+----+-----------------+\n",
            "|R3FJ319XA6ZAUQ|          2|           21|         25|   N|                Y|\n",
            "| R6HRF25HUMIIE|          5|           24|         24|   N|                Y|\n",
            "|R2CTAK3APOFKZU|          5|           37|         38|   N|                N|\n",
            "|R1WQZB0CAEPQBU|          2|           85|        128|   N|                N|\n",
            "| RHZDSA48HVRVK|          5|           49|         86|   N|                N|\n",
            "|R190J2PDOZ5GVK|          3|           36|         51|   N|                Y|\n",
            "|R1WZSWWOTN58OP|          5|           73|         77|   N|                Y|\n",
            "|R3EM8C9CKA6GPK|          2|           41|        115|   N|                N|\n",
            "|R29THVJFO35FZA|          5|           48|         50|   N|                Y|\n",
            "|R3V8FKXIHBLWEL|          5|           91|        108|   N|                Y|\n",
            "|R3JIIPQ8F0P7QS|          4|           22|         23|   N|                Y|\n",
            "|R3T9SAE2GZ2CN8|          5|           24|         28|   N|                Y|\n",
            "|R2O9VZEU64LFXH|          4|          115|        136|   N|                Y|\n",
            "|R3NET50AD1HMUD|          3|           27|         32|   N|                Y|\n",
            "| R79ZW8DU56QV6|          1|           43|         47|   N|                N|\n",
            "| RQN1N103PBM22|          1|           61|         69|   N|                Y|\n",
            "|R28VHGS18B0YXC|          5|           35|         42|   N|                N|\n",
            "|R3BWM499VCMGS7|          5|           48|         52|   N|                Y|\n",
            "|R36SDHRTJ9VEM8|          5|           32|         34|   N|                N|\n",
            "|R2ILOJ2MACX1GM|          5|           37|         63|   N|                N|\n",
            "+--------------+-----------+-------------+-----------+----+-----------------+\n",
            "only showing top 20 rows\n",
            "\n"
          ]
        }
      ]
    },
    {
      "cell_type": "code",
      "source": [
        "morethan50_df = helpfulvotes_df.filter(helpfulvotes_df[\"helpful_votes\"]/helpfulvotes_df[\"total_votes\"] >= 0.5)\n",
        "morethan50_df.show()"
      ],
      "metadata": {
        "colab": {
          "base_uri": "https://localhost:8080/"
        },
        "id": "F2qPwJykOgHK",
        "outputId": "ff4c7952-489f-48ee-f9b6-0048bd32e3a2"
      },
      "execution_count": 37,
      "outputs": [
        {
          "output_type": "stream",
          "name": "stdout",
          "text": [
            "+--------------+-----------+-------------+-----------+----+-----------------+\n",
            "|     review_id|star_rating|helpful_votes|total_votes|vine|verified_purchase|\n",
            "+--------------+-----------+-------------+-----------+----+-----------------+\n",
            "|R3FJ319XA6ZAUQ|          2|           21|         25|   N|                Y|\n",
            "| R6HRF25HUMIIE|          5|           24|         24|   N|                Y|\n",
            "|R2CTAK3APOFKZU|          5|           37|         38|   N|                N|\n",
            "|R1WQZB0CAEPQBU|          2|           85|        128|   N|                N|\n",
            "| RHZDSA48HVRVK|          5|           49|         86|   N|                N|\n",
            "|R190J2PDOZ5GVK|          3|           36|         51|   N|                Y|\n",
            "|R1WZSWWOTN58OP|          5|           73|         77|   N|                Y|\n",
            "|R29THVJFO35FZA|          5|           48|         50|   N|                Y|\n",
            "|R3V8FKXIHBLWEL|          5|           91|        108|   N|                Y|\n",
            "|R3JIIPQ8F0P7QS|          4|           22|         23|   N|                Y|\n",
            "|R3T9SAE2GZ2CN8|          5|           24|         28|   N|                Y|\n",
            "|R2O9VZEU64LFXH|          4|          115|        136|   N|                Y|\n",
            "|R3NET50AD1HMUD|          3|           27|         32|   N|                Y|\n",
            "| R79ZW8DU56QV6|          1|           43|         47|   N|                N|\n",
            "| RQN1N103PBM22|          1|           61|         69|   N|                Y|\n",
            "|R28VHGS18B0YXC|          5|           35|         42|   N|                N|\n",
            "|R3BWM499VCMGS7|          5|           48|         52|   N|                Y|\n",
            "|R36SDHRTJ9VEM8|          5|           32|         34|   N|                N|\n",
            "|R2ILOJ2MACX1GM|          5|           37|         63|   N|                N|\n",
            "|R2C9SAXAPMNSAI|          5|           44|         47|   N|                N|\n",
            "+--------------+-----------+-------------+-----------+----+-----------------+\n",
            "only showing top 20 rows\n",
            "\n"
          ]
        }
      ]
    },
    {
      "cell_type": "code",
      "source": [
        "from pyspark.sql.functions import col, avg\n",
        "paid_df = morethan50_df.filter(morethan50_df['vine']== 'Y')\n",
        "unpaid_df = morethan50_df.filter(morethan50_df['vine']== 'N')\n",
        "\n",
        "paid_df.describe().show()\n",
        "unpaid_df.describe().show()"
      ],
      "metadata": {
        "colab": {
          "base_uri": "https://localhost:8080/"
        },
        "id": "A1n-cQ84q1aG",
        "outputId": "32fcc1a4-35ed-4809-b9f4-c14653eba103"
      },
      "execution_count": 38,
      "outputs": [
        {
          "output_type": "stream",
          "name": "stdout",
          "text": [
            "+-------+--------------+------------------+------------------+-----------------+----+-----------------+\n",
            "|summary|     review_id|       star_rating|     helpful_votes|      total_votes|vine|verified_purchase|\n",
            "+-------+--------------+------------------+------------------+-----------------+----+-----------------+\n",
            "|  count|           607|               607|               607|              607| 607|              607|\n",
            "|   mean|          null| 4.098846787479407| 82.49093904448105|88.79571663920923|null|             null|\n",
            "| stddev|          null|0.9834179574969398|144.10161946676766|148.9417049277033|null|             null|\n",
            "|    min|R102N6L9WI2ZC8|                 1|                11|               20|   Y|                N|\n",
            "|    max|  RZX9XBNZSRBS|                 5|              2206|             2245|   Y|                Y|\n",
            "+-------+--------------+------------------+------------------+-----------------+----+-----------------+\n",
            "\n",
            "+-------+--------------+------------------+------------------+------------------+-----+-----------------+\n",
            "|summary|     review_id|       star_rating|     helpful_votes|       total_votes| vine|verified_purchase|\n",
            "+-------+--------------+------------------+------------------+------------------+-----+-----------------+\n",
            "|  count|         50522|             50522|             50522|             50522|50522|            50522|\n",
            "|   mean|          null|3.8617038122006253|60.538794980404575| 65.82057321562884| null|             null|\n",
            "| stddev|          null|1.4369753828587628|122.62986397596171|126.90534074386638| null|             null|\n",
            "|    min|R100596JP87S0A|                 1|                10|                20|    N|                N|\n",
            "|    max| RZZRB220JT3MV|                 5|              5132|              5287|    N|                Y|\n",
            "+-------+--------------+------------------+------------------+------------------+-----+-----------------+\n",
            "\n"
          ]
        }
      ]
    },
    {
      "cell_type": "code",
      "source": [
        "total_reviews = vine_df.count() \n",
        "total_reviews"
      ],
      "metadata": {
        "colab": {
          "base_uri": "https://localhost:8080/"
        },
        "id": "mO2-ZVf96V9W",
        "outputId": "bc31fd7f-1856-4d2f-a58d-f92c00e00235"
      },
      "execution_count": 39,
      "outputs": [
        {
          "output_type": "execute_result",
          "data": {
            "text/plain": [
              "1801974"
            ]
          },
          "metadata": {},
          "execution_count": 39
        }
      ]
    },
    {
      "cell_type": "code",
      "source": [
        "paid_five_star_number = paid_df[paid_df['star_rating']== 5].count()\n",
        "paid_number = paid_df.count()\n",
        "percentage_five_star_vine = (float(paid_five_star_number) / float(paid_number))*100\n",
        "print(f'Paid Number: {paid_number}')\n",
        "print(f'Paid five star number: {paid_five_star_number}')\n",
        "print(f'Percentage five star vine: {percentage_five_star_vine}')"
      ],
      "metadata": {
        "colab": {
          "base_uri": "https://localhost:8080/"
        },
        "id": "zJoMuoHoq5qE",
        "outputId": "77c5ad7c-eafb-44c7-f1fe-b99ed7b07ff5"
      },
      "execution_count": 40,
      "outputs": [
        {
          "output_type": "stream",
          "name": "stdout",
          "text": [
            "Paid Number: 607\n",
            "Paid five star number: 257\n",
            "Percentage five star vine: 42.33937397034596\n"
          ]
        }
      ]
    },
    {
      "cell_type": "code",
      "source": [
        "unpaid_five_star_number = unpaid_df[unpaid_df['star_rating']== 5].count()\n",
        "unpaid_number = unpaid_df.count()\n",
        "percentage_five_star_non_vine = (float(unpaid_five_star_number) / float(unpaid_number))*100\n",
        "print(f'Unpaid Number: {unpaid_number}')\n",
        "print(f'Unpaid five star number: {unpaid_five_star_number}')\n",
        "print(f'Percentage five star non vine: {percentage_five_star_non_vine}')"
      ],
      "metadata": {
        "colab": {
          "base_uri": "https://localhost:8080/"
        },
        "id": "rYTxdp3hrGuc",
        "outputId": "255416bf-bb6e-4630-8a92-893c1c96e72c"
      },
      "execution_count": 24,
      "outputs": [
        {
          "output_type": "stream",
          "name": "stdout",
          "text": [
            "Unpaid Number: 50522\n",
            "Unpaid five star number: 25220\n",
            "Percentage five star non vine: 49.91884723486798\n"
          ]
        }
      ]
    }
  ]
}